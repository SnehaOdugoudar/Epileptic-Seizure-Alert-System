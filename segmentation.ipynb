{
 "cells": [
  {
   "cell_type": "code",
   "execution_count": 2,
   "metadata": {},
   "outputs": [],
   "source": [
    "import pandas as pd\n",
    "import numpy as np\n",
    "import os\n",
    "import matplotlib.pyplot as plt\n",
    "import mne\n",
    "import scipy.io\n",
    "import shutil\n",
    "from scipy.signal import resample, resample_poly, decimate"
   ]
  },
  {
   "cell_type": "code",
   "execution_count": 72,
   "metadata": {},
   "outputs": [],
   "source": [
    "# Hyper Params\n",
    "\n",
    "oldFS = 256\n",
    "newFS = 32\n",
    "length = 8 * newFS\n",
    "stride = length\n",
    "p = 0.5"
   ]
  },
  {
   "cell_type": "code",
   "execution_count": 73,
   "metadata": {},
   "outputs": [],
   "source": [
    "def downsample(data, oldFS, newFS):\n",
    "    newNumSamples = int((data.shape[0] / oldFS) * newFS)\n",
    "    newData = pd.DataFrame(resample(data[data.columns[:-1]], newNumSamples))\n",
    "    annotation_indices = list(range(0, len(data), 8))\n",
    "    annotation = data.annotation.loc[annotation_indices].reset_index(drop = True)\n",
    "    newData['annotation'] = annotation\n",
    "    return newData"
   ]
  },
  {
   "cell_type": "code",
   "execution_count": 106,
   "metadata": {
    "scrolled": true
   },
   "outputs": [
    {
     "name": "stdout",
     "output_type": "stream",
     "text": [
      "10.csv\n",
      "11.csv\n",
      "12.csv\n",
      "13.csv\n",
      "14.csv\n",
      "15.csv\n",
      "16.csv\n",
      "17.csv\n",
      "18.csv\n",
      "19.csv\n",
      "2.csv\n",
      "20.csv\n",
      "21.csv\n",
      "22.csv\n",
      "23.csv\n",
      "24.csv\n",
      "26.csv\n",
      "27.csv\n",
      "28.csv\n",
      "29.csv\n",
      "3.csv\n",
      "30.csv\n",
      "31.csv\n",
      "32.csv\n",
      "33.csv\n",
      "34.csv\n",
      "35.csv\n",
      "36.csv\n",
      "37.csv\n",
      "38.csv\n",
      "39.csv\n",
      "4.csv\n",
      "40.csv\n",
      "41.csv\n",
      "42.csv\n",
      "43.csv\n",
      "44.csv\n",
      "45.csv\n",
      "46.csv\n",
      "47.csv\n",
      "48.csv\n",
      "49.csv\n",
      "5.csv\n",
      "50.csv\n",
      "51.csv\n",
      "52.csv\n",
      "53.csv\n",
      "54.csv\n",
      "55.csv\n",
      "56.csv\n",
      "57.csv\n",
      "58.csv\n",
      "59.csv\n",
      "6.csv\n",
      "60.csv\n",
      "61.csv\n",
      "63.csv\n",
      "64.csv\n",
      "65.csv\n",
      "66.csv\n",
      "67.csv\n",
      "68.csv\n",
      "69.csv\n",
      "7.csv\n",
      "70.csv\n",
      "71.csv\n",
      "72.csv\n",
      "73.csv\n",
      "74.csv\n",
      "75.csv\n",
      "76.csv\n",
      "77.csv\n",
      "78.csv\n",
      "79.csv\n",
      "8.csv\n",
      "9.csv\n",
      "Wall time: 19min 41s\n"
     ]
    }
   ],
   "source": [
    "%%time\n",
    "\n",
    "path = 'eldfs/'\n",
    "babydfs = list()\n",
    "for file in sorted(os.listdir(path)):\n",
    "    print(file)\n",
    "    df = downsample(pd.read_csv(path + file), oldFS, newFS)\n",
    "    finaldfs = list()\n",
    "    for i in range(0, len(df), stride):\n",
    "        annotation = 0\n",
    "        try:\n",
    "            if df[df.columns[-1]].iloc[i:i+length].value_counts()[1] > int(p * length):\n",
    "                annotation = 1\n",
    "        except:\n",
    "            annotation = 0\n",
    "        int_dfs = list()\n",
    "        for j in range(21):\n",
    "            window = df[df.columns[j]].iloc[i:i+length]\n",
    "            int_dfs.append(window)\n",
    "        int_df = pd.DataFrame(pd.concat(int_dfs, axis = 0, ignore_index = True)).T\n",
    "        int_df['annotation'] = annotation\n",
    "\n",
    "        finaldfs.append(int_df)\n",
    "    finaldf = pd.concat(finaldfs, axis = 0)\n",
    "    babydfs.append(finaldf)\n",
    "babydf = pd.concat(babydfs, axis = 0).reset_index(drop = True).dropna(how = 'any')"
   ]
  },
  {
   "cell_type": "code",
   "execution_count": 109,
   "metadata": {},
   "outputs": [],
   "source": [
    "babydf.to_csv('babydf8sec.csv')"
   ]
  },
  {
   "cell_type": "code",
   "execution_count": 84,
   "metadata": {},
   "outputs": [
    {
     "data": {
      "text/plain": [
       "47876"
      ]
     },
     "execution_count": 84,
     "metadata": {},
     "output_type": "execute_result"
    }
   ],
   "source": [
    "babydf = babydf_copy.dropna(how = 'any')\n",
    "len(babydf)"
   ]
  }
 ],
 "metadata": {
  "kernelspec": {
   "display_name": "Python 3",
   "language": "python",
   "name": "python3"
  },
  "language_info": {
   "codemirror_mode": {
    "name": "ipython",
    "version": 3
   },
   "file_extension": ".py",
   "mimetype": "text/x-python",
   "name": "python",
   "nbconvert_exporter": "python",
   "pygments_lexer": "ipython3",
   "version": "3.7.11"
  }
 },
 "nbformat": 4,
 "nbformat_minor": 4
}
